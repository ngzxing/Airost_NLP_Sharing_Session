{
 "cells": [
  {
   "cell_type": "code",
   "execution_count": null,
   "id": "d942fd49",
   "metadata": {},
   "outputs": [],
   "source": [
    "import numpy as np\n",
    "import matplotlib.pyplot as plt\n",
    "import tensorflow as tf\n",
    "from tensorflow.keras.models import Model\n",
    "from tensorflow.keras.layers import Input, Dense, Reshape, Lambda, Dropout, LSTM, Embedding, Activation\n",
    "from tensorflow.keras.optimizers import Adam\n",
    "import emoji\n",
    "import csv\n",
    "import pandas as pd\n",
    "from demo_utils import *\n"
   ]
  },
  {
   "cell_type": "code",
   "execution_count": null,
   "id": "09a32cd1",
   "metadata": {},
   "outputs": [],
   "source": [
    "X_train, Y_train = pd.read_csv(\"data/train_emoji.csv\")\n",
    "X_test, Y_test = pd.read_csv(\"data/tesss.csv\")\n",
    "Tx = len(max(X_train, key = len).split())"
   ]
  },
  {
   "cell_type": "code",
   "execution_count": null,
   "id": "03f6e2e7",
   "metadata": {},
   "outputs": [],
   "source": [
    "train_process = normalize_text(train_set.copy()) \n",
    "test_process = normalize_text(test_set.copy())"
   ]
  },
  {
   "cell_type": "code",
   "execution_count": null,
   "id": "87fac882",
   "metadata": {},
   "outputs": [],
   "source": [
    "X_train = train_process.text.to_numpy()\n",
    "X_test = test_process.text.to_numpy()\n",
    "Y_train = train_process.label.to_numpy()\n",
    "Y_test = test_process.label.to_numpy()"
   ]
  },
  {
   "cell_type": "code",
   "execution_count": null,
   "id": "23a78343",
   "metadata": {},
   "outputs": [],
   "source": [
    "Y_train_oh = one_hot_y(Y_train)\n",
    "Y_test_oh = one_hot_y(Y_test)\n",
    "\n",
    "word_to_index_oh, index_to_word_oh = get_word_beg(X_train)\n",
    "X_train_indices = x_to_indices(X_train, Tx, word_to_index_oh)\n",
    "X_test_indices = x_to_indices(X_test, Tx, word_to_index_oh)\n",
    "X_train_oh = one_hot_x(X_train_indices, word_to_index_oh)\n",
    "X_test_oh = one_hot_x(X_test_indices, word_to_index_oh)"
   ]
  },
  {
   "cell_type": "code",
   "execution_count": null,
   "id": "9069d325",
   "metadata": {},
   "outputs": [],
   "source": [
    "word_size = X_train_oh.shape[2]\n",
    "n_a = 64"
   ]
  },
  {
   "cell_type": "code",
   "execution_count": null,
   "id": "3c131b04",
   "metadata": {},
   "outputs": [],
   "source": [
    "def model_v1(input_shape, n_a):\n",
    "    \n",
    "    sentence_indices = Input(shape = input_shape, dtype = np.float64)\n",
    "    \n",
    "    X = LSTM(units = n_a, return_sequences = True)(sentence_indices)\n",
    "    X = Dropout(0.5)(X)\n",
    "    X = LSTM(units = n_a, return_sequences = False)(X)\n",
    "    X = Dropout(0.5)(X)\n",
    "    X = Dense(5, activation = \"softmax\")(X)\n",
    "    \n",
    "    model = Model(inputs = sentence_indices, outputs = X)\n",
    "    \n",
    "    return model"
   ]
  },
  {
   "cell_type": "code",
   "execution_count": null,
   "id": "1beaac01",
   "metadata": {},
   "outputs": [],
   "source": [
    "modelV1 = model_v1((Tx, word_size), n_a)"
   ]
  },
  {
   "cell_type": "code",
   "execution_count": null,
   "id": "e85e6791",
   "metadata": {},
   "outputs": [],
   "source": [
    "modelV1.summary()"
   ]
  },
  {
   "cell_type": "code",
   "execution_count": null,
   "id": "d5bfde5c",
   "metadata": {},
   "outputs": [],
   "source": [
    "opt = Adam(learning_rate = 0.01, beta_1 = 0.9, beta_2 = 0.999, decay = 0.01)\n",
    "modelV1.compile(optimizer = opt, loss = \"categorical_crossentropy\", metrics = [\"accuracy\"])"
   ]
  },
  {
   "cell_type": "code",
   "execution_count": null,
   "id": "14b4b0f2",
   "metadata": {
    "scrolled": true
   },
   "outputs": [],
   "source": [
    "history = modelV1.fit(X_train_oh, Y_train_oh, epochs = 10, batch_size = 32)"
   ]
  },
  {
   "cell_type": "code",
   "execution_count": null,
   "id": "dff8284c",
   "metadata": {},
   "outputs": [],
   "source": [
    "loss, acc = modelV1.evaluate(X_test_oh, Y_test_oh)"
   ]
  }
 ],
 "metadata": {
  "kernelspec": {
   "display_name": "Python 3 (ipykernel)",
   "language": "python",
   "name": "python3"
  },
  "language_info": {
   "codemirror_mode": {
    "name": "ipython",
    "version": 3
   },
   "file_extension": ".py",
   "mimetype": "text/x-python",
   "name": "python",
   "nbconvert_exporter": "python",
   "pygments_lexer": "ipython3",
   "version": "3.8.5"
  }
 },
 "nbformat": 4,
 "nbformat_minor": 5
}
